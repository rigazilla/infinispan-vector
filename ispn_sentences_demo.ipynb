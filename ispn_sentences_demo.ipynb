{
 "cells": [
  {
   "cell_type": "code",
   "execution_count": 5,
   "id": "059d37d1-1519-4c6f-9143-ae0571d76528",
   "metadata": {},
   "outputs": [],
   "source": [
    "# Importing\n",
    "\n",
    "from langchain_core.embeddings import Embeddings\n",
    "from infinispan_vector import Infinispan"
   ]
  },
  {
   "cell_type": "code",
   "execution_count": 6,
   "id": "d2c9f46f-3c78-4865-810b-52408dff5fb7",
   "metadata": {},
   "outputs": [],
   "source": [
    "# Demo with a real embedding\n",
    "from langchain.embeddings import HuggingFaceEmbeddings\n",
    "\n",
    "model_name = \"sentence-transformers/all-MiniLM-L12-v2\"\n",
    "\n",
    "hf = HuggingFaceEmbeddings(model_name=model_name)\n"
   ]
  },
  {
   "cell_type": "code",
   "execution_count": 7,
   "id": "49668bf1-778b-466d-86fb-41747ed52b74",
   "metadata": {},
   "outputs": [],
   "source": [
    "# Creating a langchain_core.VectorStore\n",
    "# the default store name `allminilm` will be used\n",
    "\n",
    "ispn_allminilm = Infinispan.from_texts(embedding=hf,\n",
    "                                 configuration={\"lambda.content\": lambda item: item[\"sentence\"], \"cache_name\": \"allminilm\", \"entity_name\" : \"allmini_vec\"})"
   ]
  },
  {
   "cell_type": "code",
   "execution_count": 8,
   "id": "24891f4a-671b-4694-8892-b0c4da954d6e",
   "metadata": {},
   "outputs": [
    {
     "data": {
      "text/plain": [
       "<Response [200]>"
      ]
     },
     "execution_count": 8,
     "metadata": {},
     "output_type": "execute_result"
    }
   ],
   "source": [
    "# Creating an Infinispan cache to store vectors\n",
    "\n",
    "cache_def = '''\n",
    "{\n",
    "  \"distributed-cache\": {\n",
    "    \"owners\": \"2\",\n",
    "    \"mode\": \"SYNC\",\n",
    "    \"statistics\": true,\n",
    "    \"encoding\": {\n",
    "      \"media-type\": \"application/x-protostream\"\n",
    "    },\n",
    "    \"indexing\": {\n",
    "      \"enabled\": true,\n",
    "      \"storage\": \"filesystem\",\n",
    "      \"startup-mode\": \"AUTO\",\n",
    "      \"indexing-mode\": \"AUTO\",\n",
    "      \"indexed-entities\": [\n",
    "        \"allmini_vec\"\n",
    "      ]\n",
    "    }\n",
    "  }\n",
    "}\n",
    "'''\n",
    "ispn_allminilm.req_cache_post(\"allminilm\",cache_def)"
   ]
  },
  {
   "cell_type": "code",
   "execution_count": 9,
   "id": "1fa0add0-8317-4667-9b8c-5d91c47f752a",
   "metadata": {},
   "outputs": [
    {
     "name": "stdout",
     "output_type": "stream",
     "text": [
      "{\"name\":\"allmini_vec.proto\",\"error\":null}\n"
     ]
    }
   ],
   "source": [
    "import json\n",
    "schema = '''\n",
    "/**\n",
    " * @Indexed\n",
    " */\n",
    "message allmini_vec {\n",
    "/**\n",
    " * @Vector(dimension=384)\n",
    " */\n",
    "repeated float floatVector = 1;\n",
    "optional string texture = 2;\n",
    "optional string sentence = 3;\n",
    "}\n",
    "'''\n",
    "output = ispn_allminilm.req_schema_post(\"allmini_vec.proto\",schema)\n",
    "print(output.text)\n",
    "assert output.status_code == 200\n",
    "assert json.loads(output.text)[\"error\"] == None"
   ]
  },
  {
   "cell_type": "code",
   "execution_count": 10,
   "id": "75920ad4-cec2-4329-8fb4-707a1d118063",
   "metadata": {},
   "outputs": [
    {
     "data": {
      "text/plain": [
       "['1', '2', '3', '4', '5']"
      ]
     },
     "execution_count": 10,
     "metadata": {},
     "output_type": "execute_result"
    }
   ],
   "source": [
    "# Adding some data\n",
    "texts =    [{\"_key\": 1, \"_type\": \"allmini_vec\", \"texture\" : \"matt\", \"sentence\" : \"Volleyball is a team sport in which two teams of six players are separated by a net. Each team tries to score points by grounding a ball on the other team's court under organized rules.\"},\n",
    "                {\"_key\": 2, \"_type\": \"allmini_vec\", \"texture\": \"glossy\", \"sentence\": \"An earthquake – also called a quake, tremor, or temblor – is the shaking of the surface of Earth resulting from a sudden release of energy in the lithosphere that creates seismic waves.\"},\n",
    "                {\"_key\": 3, \"_type\": \"allmini_vec\", \"texture\": \"silk\", \"sentence\": \"An octopus is a soft-bodied, eight-limbed mollusc of the order Octopoda. The order consists of some 300 species and is grouped within the class Cephalopoda with squids, cuttlefish, and nautiloids.\"},\n",
    "                {\"_key\": 4, \"_type\": \"allmini_vec\", \"texture\": \"matt\", \"sentence\": \"Basketball is a team sport in which two teams, most commonly of five players each, opposing one another on a rectangular court, compete with the primary objective of shooting a basketball (approximately 9.4 inches (24 cm) in diameter) through the defender's hoop.\"},\n",
    "                {\"_key\": 5, \"_type\": \"allmini_vec\", \"texture\": \"raw\", \"sentence\": \"Physics is the natural science of matter, involving the study of matter,[a] its fundamental constituents, its motion and behavior through space and time, and the related entities of energy and force.\"},\n",
    "                                 ]\n",
    "res = ispn_allminilm.add_texts(texts)\n",
    "res"
   ]
  },
  {
   "cell_type": "code",
   "execution_count": 11,
   "id": "86e782b3-5a74-4ca1-a5d1-c0ee935a659e",
   "metadata": {},
   "outputs": [
    {
     "data": {
      "text/plain": [
       "[Document(page_content='An octopus is a soft-bodied, eight-limbed mollusc of the order Octopoda. The order consists of some 300 species and is grouped within the class Cephalopoda with squids, cuttlefish, and nautiloids.'),\n",
       " Document(page_content=\"Volleyball is a team sport in which two teams of six players are separated by a net. Each team tries to score points by grounding a ball on the other team's court under organized rules.\")]"
      ]
     },
     "execution_count": 11,
     "metadata": {},
     "output_type": "execute_result"
    }
   ],
   "source": [
    "ispn_allminilm.similarity_search(\"I like swimming in the sea\",2)"
   ]
  },
  {
   "cell_type": "code",
   "execution_count": 12,
   "id": "b60847f9-ef34-4c79-b276-ac62170e2d6a",
   "metadata": {},
   "outputs": [
    {
     "data": {
      "text/plain": [
       "[Document(page_content=\"Volleyball is a team sport in which two teams of six players are separated by a net. Each team tries to score points by grounding a ball on the other team's court under organized rules.\"),\n",
       " Document(page_content=\"Basketball is a team sport in which two teams, most commonly of five players each, opposing one another on a rectangular court, compete with the primary objective of shooting a basketball (approximately 9.4 inches (24 cm) in diameter) through the defender's hoop.\")]"
      ]
     },
     "execution_count": 12,
     "metadata": {},
     "output_type": "execute_result"
    }
   ],
   "source": [
    "ispn_allminilm.similarity_search(\"I don't like tennis, I prefer playing in a team\",2)"
   ]
  },
  {
   "cell_type": "code",
   "execution_count": 13,
   "id": "862e4af2-9f8a-4985-90cb-997477901b1e",
   "metadata": {},
   "outputs": [
    {
     "data": {
      "text/plain": [
       "<Response [204]>"
      ]
     },
     "execution_count": 13,
     "metadata": {},
     "output_type": "execute_result"
    }
   ],
   "source": [
    "# Clean up\n",
    "ispn_allminilm.req_cache_delete(\"allminilm\")\n",
    "ispn_allminilm.req_schema_delete(\"allmini_vec.proto\")"
   ]
  },
  {
   "cell_type": "code",
   "execution_count": null,
   "id": "323cbffb-380b-429c-8c0e-62c2cb1d0a59",
   "metadata": {},
   "outputs": [],
   "source": []
  },
  {
   "cell_type": "code",
   "execution_count": null,
   "id": "f9eeef67-0d0c-40a9-8727-6d6b4a788607",
   "metadata": {},
   "outputs": [],
   "source": []
  }
 ],
 "metadata": {
  "kernelspec": {
   "display_name": "Python 3 (ipykernel)",
   "language": "python",
   "name": "python3"
  },
  "language_info": {
   "codemirror_mode": {
    "name": "ipython",
    "version": 3
   },
   "file_extension": ".py",
   "mimetype": "text/x-python",
   "name": "python",
   "nbconvert_exporter": "python",
   "pygments_lexer": "ipython3",
   "version": "3.9.18"
  }
 },
 "nbformat": 4,
 "nbformat_minor": 5
}
