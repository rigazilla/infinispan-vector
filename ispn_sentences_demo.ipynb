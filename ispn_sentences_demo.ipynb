{
 "cells": [
  {
   "cell_type": "code",
   "execution_count": null,
   "id": "d2c9f46f-3c78-4865-810b-52408dff5fb7",
   "metadata": {},
   "outputs": [],
   "source": [
    "from langchain_core.embeddings import Embeddings\n",
    "from langchain.embeddings import HuggingFaceEmbeddings\n",
    "\n",
    "model_name = \"sentence-transformers/all-MiniLM-L12-v2\"\n",
    "\n",
    "hf = HuggingFaceEmbeddings(model_name=model_name)\n"
   ]
  },
  {
   "cell_type": "code",
   "execution_count": null,
   "id": "49668bf1-778b-466d-86fb-41747ed52b74",
   "metadata": {},
   "outputs": [],
   "source": [
    "# Creating a langchain_core.VectorStore\n",
    "# the default store name `allminilm` will be used\n",
    "from infinispan_vector import Infinispan, InfinispanVS\n",
    "ispn = Infinispan()\n",
    "ispn_vs = InfinispanVS.from_texts(texts={}, embedding=hf, ispn=ispn,\n",
    "                                 configuration={\"lambda.content\": lambda item: item[\"_key\"], \"cache_name\": \"sentence_demo_cache\", \"entity_name\" : \"sentence_demo_vec\"})"
   ]
  },
  {
   "cell_type": "code",
   "execution_count": null,
   "id": "1fa0add0-8317-4667-9b8c-5d91c47f752a",
   "metadata": {},
   "outputs": [],
   "source": [
    "# Create the protobuf schema for vector\n",
    "import json\n",
    "schema_vector = '''\n",
    "/**\n",
    " * @Indexed\n",
    " */\n",
    "message sentence_demo_vec {\n",
    "/**\n",
    " * @Vector(dimension=384)\n",
    " */\n",
    "repeated float floatVector = 1;\n",
    "optional int32 _key = 2;\n",
    "}\n",
    "'''\n",
    "output = ispn.req_schema_delete(\"sentence_demo.proto\")\n",
    "output = ispn.req_schema_post(\"sentence_demo.proto\",schema_vector)\n",
    "print(output.text)\n",
    "assert output.status_code == 200\n",
    "assert json.loads(output.text)[\"error\"] == None"
   ]
  },
  {
   "cell_type": "code",
   "execution_count": null,
   "id": "2657f3cb-b03a-451f-b59f-9a270e48e79d",
   "metadata": {},
   "outputs": [],
   "source": [
    "# Create the protobuf schema for content\n",
    "schema = '''\n",
    "message sentence {\n",
    "optional string title = 1;\n",
    "optional string description = 2;\n",
    "}\n",
    "'''\n",
    "output = ispn.req_schema_post(\"sentence.proto\",schema)\n",
    "print(output.text)\n",
    "assert output.status_code == 200\n",
    "assert json.loads(output.text)[\"error\"] == None"
   ]
  },
  {
   "cell_type": "code",
   "execution_count": null,
   "id": "24891f4a-671b-4694-8892-b0c4da954d6e",
   "metadata": {},
   "outputs": [],
   "source": [
    "# Creating an Infinispan cache to store vectors\n",
    "\n",
    "cache_def = '''\n",
    "{\n",
    "  \"distributed-cache\": {\n",
    "    \"owners\": \"2\",\n",
    "    \"mode\": \"SYNC\",\n",
    "    \"statistics\": true,\n",
    "    \"encoding\": {\n",
    "      \"media-type\": \"application/x-protostream\"\n",
    "    },\n",
    "    \"indexing\": {\n",
    "      \"enabled\": true,\n",
    "      \"storage\": \"filesystem\",\n",
    "      \"startup-mode\": \"AUTO\",\n",
    "      \"indexing-mode\": \"AUTO\",\n",
    "      \"indexed-entities\": [\n",
    "        \"sentence_demo_vec\"\n",
    "      ]\n",
    "    }\n",
    "  }\n",
    "}\n",
    "'''\n",
    "ispn.req_cache_post(\"sentence_demo_cache\",cache_def)\n",
    "ispn.req_cache_clear(\"sentence_demo_cache\")"
   ]
  },
  {
   "cell_type": "code",
   "execution_count": null,
   "id": "100a96e9-1d6f-491d-ad4a-efb115bb3c5b",
   "metadata": {},
   "outputs": [],
   "source": [
    "# Creating an Infinispan cache to store content\n",
    "\n",
    "cache_def = '''\n",
    "{\n",
    "  \"distributed-cache\": {\n",
    "    \"owners\": \"2\",\n",
    "    \"mode\": \"SYNC\",\n",
    "    \"statistics\": true,\n",
    "    \"encoding\": {\n",
    "      \"media-type\": \"application/x-protostream\"\n",
    "    }\n",
    "  }\n",
    "}\n",
    "'''\n",
    "ispn.req_cache_post(\"sentence\",cache_def)\n",
    "ispn.req_cache_clear(\"sentence\")"
   ]
  },
  {
   "cell_type": "code",
   "execution_count": null,
   "id": "f9eeef67-0d0c-40a9-8727-6d6b4a788607",
   "metadata": {},
   "outputs": [],
   "source": [
    "# Adding some data from rnd_sentences.txt\n",
    "import csv, time, gzip\n",
    "with gzip.open('rnd_sentences.txt.gz', 'rt', newline='') as f:\n",
    "    line = f.readline()\n",
    "    i=0\n",
    "    texts = []\n",
    "    metas = []\n",
    "    embeds = []\n",
    "    while line:\n",
    "        # Storing content\n",
    "        doc={}\n",
    "        doc[\"_type\"]=\"sentence\"\n",
    "        doc[\"title\"]=str(i)\n",
    "        doc[\"description\"]=line\n",
    "        res = ispn.req_put(str(i), json.dumps(doc), cache_name=\"sentence\")\n",
    "        texts.append(line)\n",
    "        # Storing meta\n",
    "        meta={}\n",
    "        meta[\"_key\"]=str(i)\n",
    "        metas.append(meta)\n",
    "        i=i+1\n",
    "# Change this to change the number of sentences you want to load\n",
    "        if (i > 5000):\n",
    "            break\n",
    "        line = f.readline()"
   ]
  },
  {
   "cell_type": "code",
   "execution_count": null,
   "id": "75e135a6-1b38-48eb-96ca-379b6f4a653f",
   "metadata": {},
   "outputs": [],
   "source": [
    "# add texts and fill vector db\n",
    "keys = ispn_vs.add_texts(texts, metas)"
   ]
  },
  {
   "cell_type": "code",
   "execution_count": null,
   "id": "86e782b3-5a74-4ca1-a5d1-c0ee935a659e",
   "metadata": {},
   "outputs": [],
   "source": [
    "# Some demo queries\n",
    "query_res = ispn_vs.similarity_search(\"I want to have fun this night\",2)\n",
    "for res in query_res:\n",
    "    print(ispn.req_get(res.page_content, \"sentence\").text)"
   ]
  },
  {
   "cell_type": "code",
   "execution_count": null,
   "id": "b60847f9-ef34-4c79-b276-ac62170e2d6a",
   "metadata": {},
   "outputs": [],
   "source": [
    "query_res = ispn_vs.similarity_search(\"Leafs are falling from the trees in the park\",5)\n",
    "for res in query_res:\n",
    "    print(ispn.req_get(res.page_content, \"sentence\").text)"
   ]
  },
  {
   "cell_type": "code",
   "execution_count": null,
   "id": "5572ce2c-ac9b-4e56-a737-4d3afbd1e5af",
   "metadata": {},
   "outputs": [],
   "source": [
    "query_res = ispn_vs.similarity_search(\"I'm getting hungry\",2)\n",
    "for res in query_res:\n",
    "    print(ispn.req_get(res.page_content, \"sentence\").text)"
   ]
  },
  {
   "cell_type": "code",
   "execution_count": null,
   "id": "6cbb5607-da55-4879-92cf-79ac690cc0c5",
   "metadata": {},
   "outputs": [],
   "source": [
    "query_res = ispn_vs.similarity_search(\"I feel like a bird in a cage\",2)\n",
    "for res in query_res:\n",
    "    print(ispn.req_get(res.page_content, \"sentence\").text)"
   ]
  },
  {
   "cell_type": "code",
   "execution_count": null,
   "id": "3bb94ca1-7b1e-41ed-9d8f-b845775d11c1",
   "metadata": {},
   "outputs": [],
   "source": [
    "query_res = ispn_vs.similarity_search(\"People are strange, when you are stranger\",2)\n",
    "for res in query_res:\n",
    "    print(ispn.req_get(res.page_content, \"sentence\").text)"
   ]
  },
  {
   "cell_type": "code",
   "execution_count": null,
   "id": "a4fca208-b580-483d-9be0-786b6b63a31d",
   "metadata": {},
   "outputs": [],
   "source": [
    "query_res = ispn_vs.similarity_search(\"As we know, time is relative\",2)\n",
    "for res in query_res:\n",
    "    print(ispn.req_get(res.page_content, \"sentence\").text)"
   ]
  },
  {
   "cell_type": "code",
   "execution_count": null,
   "id": "862e4af2-9f8a-4985-90cb-997477901b1e",
   "metadata": {},
   "outputs": [],
   "source": [
    "# Clean up\n",
    "ispn.req_cache_delete(\"sentence_demo_cache\")\n",
    "ispn.req_schema_delete(\"sentence_demo.proto\")"
   ]
  },
  {
   "cell_type": "code",
   "execution_count": null,
   "id": "323cbffb-380b-429c-8c0e-62c2cb1d0a59",
   "metadata": {},
   "outputs": [],
   "source": [
    "ispn.req_cache_delete(\"sentence\")\n",
    "ispn.req_schema_delete(\"sentence.proto\")"
   ]
  },
  {
   "cell_type": "code",
   "execution_count": null,
   "id": "d4625074-2109-442d-9b5f-1f5ac532e8a4",
   "metadata": {},
   "outputs": [],
   "source": []
  }
 ],
 "metadata": {
  "kernelspec": {
   "display_name": "Python 3 (ipykernel)",
   "language": "python",
   "name": "python3"
  },
  "language_info": {
   "codemirror_mode": {
    "name": "ipython",
    "version": 3
   },
   "file_extension": ".py",
   "mimetype": "text/x-python",
   "name": "python",
   "nbconvert_exporter": "python",
   "pygments_lexer": "ipython3",
   "version": "3.9.18"
  }
 },
 "nbformat": 4,
 "nbformat_minor": 5
}
