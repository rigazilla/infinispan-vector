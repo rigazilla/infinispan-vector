{
 "cells": [
  {
   "cell_type": "code",
   "execution_count": null,
   "id": "059d37d1-1519-4c6f-9143-ae0571d76528",
   "metadata": {},
   "outputs": [],
   "source": [
    "# Importing\n",
    "\n",
    "from langchain_core.embeddings import Embeddings\n",
    "from infinispan_vector import Infinispan"
   ]
  },
  {
   "cell_type": "code",
   "execution_count": null,
   "id": "771ca946-9e1f-4bc9-a22c-01e0fcbce3c7",
   "metadata": {},
   "outputs": [],
   "source": [
    "# Create a fake embedding class which generates 3 dimension vector\n",
    "\n",
    "from typing import List\n",
    "from matplotlib import colors\n",
    "class RGBEmbeddings(Embeddings):\n",
    "    \"\"\"Fake embeddings which returns rgb vector given a matplotlib colorname\n",
    "    \"\"\"\n",
    "\n",
    "    def __init__(self, dimensionality: int = 3) -> None:\n",
    "        self.known_texts: List[str] = []\n",
    "        self.dimensionality = dimensionality\n",
    "\n",
    "    def embed_documents(self, texts: List[str]) -> List[List[float]]:\n",
    "        \"\"\"Return consistent embeddings for each text seen so far.\"\"\"\n",
    "        return [self.embed_query(text) for text in texts]\n",
    "\n",
    "\n",
    "    def embed_query(self, text: str) -> List[float]:\n",
    "        \"\"\"Convert str to a json list of float and return it.\"\"\"\n",
    "        return list(colors.to_rgb(text))\n"
   ]
  },
  {
   "cell_type": "code",
   "execution_count": null,
   "id": "b5f7f42e-a64d-4940-ad15-8da8b51fe0c9",
   "metadata": {},
   "outputs": [],
   "source": [
    "# Creating a langchain_core.VectorStore\n",
    "# the default store name `embeddingvectors` will be used\n",
    "\n",
    "infinispan = Infinispan.from_texts(embedding=RGBEmbeddings(),\n",
    "                                 configuration={\"lambda.content\": lambda item: item[\"color\"]})"
   ]
  },
  {
   "cell_type": "code",
   "execution_count": null,
   "id": "58b000b0-46bb-41bf-b26a-3763b0562b0f",
   "metadata": {},
   "outputs": [],
   "source": [
    "# Creating an Infinispan cache to store vectors\n",
    "\n",
    "cache_def = '''\n",
    "{\n",
    "  \"distributed-cache\": {\n",
    "    \"owners\": \"2\",\n",
    "    \"mode\": \"SYNC\",\n",
    "    \"statistics\": true,\n",
    "    \"encoding\": {\n",
    "      \"media-type\": \"application/x-protostream\"\n",
    "    },\n",
    "    \"indexing\": {\n",
    "      \"enabled\": true,\n",
    "      \"storage\": \"filesystem\",\n",
    "      \"startup-mode\": \"AUTO\",\n",
    "      \"indexing-mode\": \"AUTO\",\n",
    "      \"indexed-entities\": [\n",
    "        \"vector\"\n",
    "      ]\n",
    "    }\n",
    "  }\n",
    "}\n",
    "'''\n",
    "infinispan.req_cache_post(\"embeddingvectors\",cache_def)"
   ]
  },
  {
   "cell_type": "code",
   "execution_count": null,
   "id": "aec8ecdd-91b1-480a-a246-36bc782a7a3f",
   "metadata": {},
   "outputs": [],
   "source": [
    "data = '''\n",
    "/**\n",
    " * @Indexed\n",
    " */\n",
    "message vector {\n",
    "/**\n",
    " * @Vector(dimension=3)\n",
    " */\n",
    "repeated float floatVector = 1;\n",
    "optional string texture = 2;\n",
    "optional string color = 3;\n",
    "}\n",
    "'''\n",
    "output = infinispan.req_schema_post(\"vector.proto\",data)\n",
    "print(output.text)\n",
    "assert output.status_code == 200\n"
   ]
  },
  {
   "cell_type": "code",
   "execution_count": null,
   "id": "7fbd9de4-d24b-49ec-bfb9-271b0a2166f6",
   "metadata": {},
   "outputs": [],
   "source": [
    "# Adding some data\n",
    "texts =    [{\"_key\": 1, \"_type\": \"vector\", \"texture\" : \"matt\", \"color\" : \"red\"},\n",
    "                {\"_key\": 2, \"_type\": \"vector\", \"texture\": \"glossy\", \"color\": \"green\"},\n",
    "                {\"_key\": 3, \"_type\": \"vector\", \"texture\": \"silk\", \"color\": \"blue\"},\n",
    "                {\"_key\": 4, \"_type\": \"vector\", \"texture\": \"matt\", \"color\": \"black\"},\n",
    "                {\"_key\": 5, \"_type\": \"vector\", \"texture\": \"raw\", \"color\": \"white\"},\n",
    "                                 ]\n",
    "infinispan.add_texts(texts)"
   ]
  },
  {
   "cell_type": "code",
   "execution_count": null,
   "id": "f820992b-30e8-4eeb-980e-8d9524ff136c",
   "metadata": {},
   "outputs": [],
   "source": [
    "# Running search\n",
    "\n",
    "infinispan.similarity_search(\"orange\",2)"
   ]
  },
  {
   "cell_type": "code",
   "execution_count": null,
   "id": "b14913d2-a079-4c0d-9021-6d834ecee15d",
   "metadata": {},
   "outputs": [],
   "source": [
    "infinispan.similarity_search(\"purple\",2)"
   ]
  },
  {
   "cell_type": "code",
   "execution_count": null,
   "id": "90d9395a-c551-4d53-b8d3-5ce84e48f496",
   "metadata": {},
   "outputs": [],
   "source": [
    "infinispan.similarity_search(\"lime\",2)"
   ]
  },
  {
   "cell_type": "code",
   "execution_count": null,
   "id": "703d87e6-f3de-43aa-a830-915641896116",
   "metadata": {},
   "outputs": [],
   "source": [
    "infinispan.similarity_search(\"snow\",2)"
   ]
  },
  {
   "cell_type": "code",
   "execution_count": null,
   "id": "862e4af2-9f8a-4985-90cb-997477901b1e",
   "metadata": {},
   "outputs": [],
   "source": [
    "# Clean up\n",
    "infinispan.req_cache_delete(\"embeddingvectors\")\n",
    "infinispan.req_schema_delete(\"vector.proto\")"
   ]
  },
  {
   "cell_type": "code",
   "execution_count": null,
   "id": "3fcd4f19-a298-4222-8716-1c37c05b8d8e",
   "metadata": {},
   "outputs": [],
   "source": []
  }
 ],
 "metadata": {
  "kernelspec": {
   "display_name": "Python 3 (ipykernel)",
   "language": "python",
   "name": "python3"
  },
  "language_info": {
   "codemirror_mode": {
    "name": "ipython",
    "version": 3
   },
   "file_extension": ".py",
   "mimetype": "text/x-python",
   "name": "python",
   "nbconvert_exporter": "python",
   "pygments_lexer": "ipython3",
   "version": "3.9.18"
  }
 },
 "nbformat": 4,
 "nbformat_minor": 5
}
