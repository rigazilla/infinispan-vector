{
 "cells": [
  {
   "cell_type": "code",
   "execution_count": 32,
   "id": "059d37d1-1519-4c6f-9143-ae0571d76528",
   "metadata": {},
   "outputs": [],
   "source": [
    "# Importing\n",
    "\n",
    "from langchain_core.embeddings import Embeddings\n",
    "from infinispan_vector import Infinispan"
   ]
  },
  {
   "cell_type": "code",
   "execution_count": 33,
   "id": "771ca946-9e1f-4bc9-a22c-01e0fcbce3c7",
   "metadata": {},
   "outputs": [],
   "source": [
    "# Create a fake embedding class which generates 3 dimension vector\n",
    "\n",
    "from typing import List\n",
    "from matplotlib import colors\n",
    "class RGBEmbeddings(Embeddings):\n",
    "    \"\"\"Fake embeddings which returns rgb vector given a matplotlib colorname\n",
    "    \"\"\"\n",
    "\n",
    "    def __init__(self, dimensionality: int = 3) -> None:\n",
    "        self.known_texts: List[str] = []\n",
    "        self.dimensionality = dimensionality\n",
    "\n",
    "    def embed_documents(self, texts: List[str]) -> List[List[float]]:\n",
    "        \"\"\"Return consistent embeddings for each text seen so far.\"\"\"\n",
    "        return [self.embed_query(text) for text in texts]\n",
    "\n",
    "\n",
    "    def embed_query(self, text: str) -> List[float]:\n",
    "        \"\"\"Convert str to a json list of float and return it.\"\"\"\n",
    "        return list(colors.to_rgb(text))\n"
   ]
  },
  {
   "cell_type": "code",
   "execution_count": 34,
   "id": "b5f7f42e-a64d-4940-ad15-8da8b51fe0c9",
   "metadata": {},
   "outputs": [],
   "source": [
    "# Creating a langchain_core.VectorStore\n",
    "# the default store name `embeddingvectors` will be used\n",
    "\n",
    "infinispan = Infinispan.from_texts(embedding=RGBEmbeddings(),\n",
    "                                 configuration={\"lambda.content\": lambda item: item[\"color\"]})"
   ]
  },
  {
   "cell_type": "code",
   "execution_count": 35,
   "id": "58b000b0-46bb-41bf-b26a-3763b0562b0f",
   "metadata": {},
   "outputs": [
    {
     "data": {
      "text/plain": [
       "<Response [200]>"
      ]
     },
     "execution_count": 35,
     "metadata": {},
     "output_type": "execute_result"
    }
   ],
   "source": [
    "# Creating an Infinispan cache to store vectors\n",
    "\n",
    "cache_def = '''\n",
    "{\n",
    "  \"distributed-cache\": {\n",
    "    \"owners\": \"2\",\n",
    "    \"mode\": \"SYNC\",\n",
    "    \"statistics\": true,\n",
    "    \"encoding\": {\n",
    "      \"media-type\": \"application/x-protostream\"\n",
    "    },\n",
    "    \"indexing\": {\n",
    "      \"enabled\": true,\n",
    "      \"storage\": \"filesystem\",\n",
    "      \"startup-mode\": \"AUTO\",\n",
    "      \"indexing-mode\": \"AUTO\",\n",
    "      \"indexed-entities\": [\n",
    "        \"vector\"\n",
    "      ]\n",
    "    }\n",
    "  }\n",
    "}\n",
    "'''\n",
    "infinispan.req_cache_post(\"embeddingvectors\",cache_def)"
   ]
  },
  {
   "cell_type": "code",
   "execution_count": 36,
   "id": "aec8ecdd-91b1-480a-a246-36bc782a7a3f",
   "metadata": {},
   "outputs": [
    {
     "name": "stdout",
     "output_type": "stream",
     "text": [
      "{\"name\":\"vector.proto\",\"error\":null}\n"
     ]
    }
   ],
   "source": [
    "data = '''\n",
    "/**\n",
    " * @Indexed\n",
    " */\n",
    "message vector {\n",
    "/**\n",
    " * @Vector(dimension=3)\n",
    " */\n",
    "repeated float floatVector = 1;\n",
    "optional string texture = 2;\n",
    "optional string color = 3;\n",
    "}\n",
    "'''\n",
    "output = infinispan.req_schema_post(\"vector.proto\",data)\n",
    "print(output.text)\n",
    "assert output.status_code == 200\n"
   ]
  },
  {
   "cell_type": "code",
   "execution_count": 37,
   "id": "7fbd9de4-d24b-49ec-bfb9-271b0a2166f6",
   "metadata": {},
   "outputs": [
    {
     "data": {
      "text/plain": [
       "['1', '2', '3', '4', '5']"
      ]
     },
     "execution_count": 37,
     "metadata": {},
     "output_type": "execute_result"
    }
   ],
   "source": [
    "# Adding some data\n",
    "texts =    [{\"_key\": 1, \"_type\": \"vector\", \"texture\" : \"matt\", \"color\" : \"red\"},\n",
    "                {\"_key\": 2, \"_type\": \"vector\", \"texture\": \"glossy\", \"color\": \"green\"},\n",
    "                {\"_key\": 3, \"_type\": \"vector\", \"texture\": \"silk\", \"color\": \"blue\"},\n",
    "                {\"_key\": 4, \"_type\": \"vector\", \"texture\": \"matt\", \"color\": \"black\"},\n",
    "                {\"_key\": 5, \"_type\": \"vector\", \"texture\": \"raw\", \"color\": \"white\"},\n",
    "                                 ]\n",
    "infinispan.add_texts(texts)"
   ]
  },
  {
   "cell_type": "code",
   "execution_count": 38,
   "id": "f820992b-30e8-4eeb-980e-8d9524ff136c",
   "metadata": {},
   "outputs": [
    {
     "data": {
      "text/plain": [
       "[Document(page_content='red'), Document(page_content='green')]"
      ]
     },
     "execution_count": 38,
     "metadata": {},
     "output_type": "execute_result"
    }
   ],
   "source": [
    "# Running search\n",
    "\n",
    "infinispan.similarity_search(\"orange\",2)"
   ]
  },
  {
   "cell_type": "code",
   "execution_count": 39,
   "id": "b14913d2-a079-4c0d-9021-6d834ecee15d",
   "metadata": {},
   "outputs": [
    {
     "data": {
      "text/plain": [
       "[Document(page_content='red'), Document(page_content='blue')]"
      ]
     },
     "execution_count": 39,
     "metadata": {},
     "output_type": "execute_result"
    }
   ],
   "source": [
    "infinispan.similarity_search(\"purple\",2)"
   ]
  },
  {
   "cell_type": "code",
   "execution_count": 40,
   "id": "90d9395a-c551-4d53-b8d3-5ce84e48f496",
   "metadata": {},
   "outputs": [
    {
     "data": {
      "text/plain": [
       "[Document(page_content='green'), Document(page_content='black')]"
      ]
     },
     "execution_count": 40,
     "metadata": {},
     "output_type": "execute_result"
    }
   ],
   "source": [
    "infinispan.similarity_search(\"lime\",2)"
   ]
  },
  {
   "cell_type": "code",
   "execution_count": 41,
   "id": "703d87e6-f3de-43aa-a830-915641896116",
   "metadata": {},
   "outputs": [
    {
     "data": {
      "text/plain": [
       "[Document(page_content='white'), Document(page_content='red')]"
      ]
     },
     "execution_count": 41,
     "metadata": {},
     "output_type": "execute_result"
    }
   ],
   "source": [
    "infinispan.similarity_search(\"snow\",2)"
   ]
  },
  {
   "cell_type": "code",
   "execution_count": 42,
   "id": "d2c9f46f-3c78-4865-810b-52408dff5fb7",
   "metadata": {},
   "outputs": [],
   "source": [
    "# Demo with a real embedding\n",
    "from langchain.embeddings import HuggingFaceEmbeddings\n",
    "\n",
    "model_name = \"sentence-transformers/all-MiniLM-L12-v2\"\n",
    "\n",
    "hf = HuggingFaceEmbeddings(model_name=model_name)\n"
   ]
  },
  {
   "cell_type": "code",
   "execution_count": 43,
   "id": "49668bf1-778b-466d-86fb-41747ed52b74",
   "metadata": {},
   "outputs": [],
   "source": [
    "# Creating a langchain_core.VectorStore\n",
    "# the default store name `allminilm` will be used\n",
    "\n",
    "ispn_allminilm = Infinispan.from_texts(embedding=hf,\n",
    "                                 configuration={\"lambda.content\": lambda item: item[\"sentence\"], \"cache_name\": \"allminilm\", \"entity_name\" : \"allmini_vec\"})"
   ]
  },
  {
   "cell_type": "code",
   "execution_count": 44,
   "id": "24891f4a-671b-4694-8892-b0c4da954d6e",
   "metadata": {},
   "outputs": [
    {
     "data": {
      "text/plain": [
       "<Response [200]>"
      ]
     },
     "execution_count": 44,
     "metadata": {},
     "output_type": "execute_result"
    }
   ],
   "source": [
    "# Creating an Infinispan cache to store vectors\n",
    "\n",
    "cache_def = '''\n",
    "{\n",
    "  \"distributed-cache\": {\n",
    "    \"owners\": \"2\",\n",
    "    \"mode\": \"SYNC\",\n",
    "    \"statistics\": true,\n",
    "    \"encoding\": {\n",
    "      \"media-type\": \"application/x-protostream\"\n",
    "    },\n",
    "    \"indexing\": {\n",
    "      \"enabled\": true,\n",
    "      \"storage\": \"filesystem\",\n",
    "      \"startup-mode\": \"AUTO\",\n",
    "      \"indexing-mode\": \"AUTO\",\n",
    "      \"indexed-entities\": [\n",
    "        \"allmini_vec\"\n",
    "      ]\n",
    "    }\n",
    "  }\n",
    "}\n",
    "'''\n",
    "ispn_allminilm.req_cache_post(\"allminilm\",cache_def)"
   ]
  },
  {
   "cell_type": "code",
   "execution_count": 45,
   "id": "1fa0add0-8317-4667-9b8c-5d91c47f752a",
   "metadata": {},
   "outputs": [
    {
     "name": "stdout",
     "output_type": "stream",
     "text": [
      "{\"name\":\"allmini_vec.proto\",\"error\":null}\n"
     ]
    }
   ],
   "source": [
    "import json\n",
    "schema = '''\n",
    "/**\n",
    " * @Indexed\n",
    " */\n",
    "message allmini_vec {\n",
    "/**\n",
    " * @Vector(dimension=384)\n",
    " */\n",
    "repeated float floatVector = 1;\n",
    "optional string texture = 2;\n",
    "optional string sentence = 3;\n",
    "}\n",
    "'''\n",
    "output = ispn_allminilm.req_schema_post(\"allmini_vec.proto\",schema)\n",
    "print(output.text)\n",
    "assert output.status_code == 200\n",
    "assert json.loads(output.text)[\"error\"] == None"
   ]
  },
  {
   "cell_type": "code",
   "execution_count": 46,
   "id": "75920ad4-cec2-4329-8fb4-707a1d118063",
   "metadata": {},
   "outputs": [],
   "source": [
    "# Adding some data\n",
    "texts =    [{\"_key\": 1, \"_type\": \"allmini_vec\", \"texture\" : \"matt\", \"sentence\" : \"Volleyball is a team sport in which two teams of six players are separated by a net. Each team tries to score points by grounding a ball on the other team's court under organized rules.\"},\n",
    "                {\"_key\": 2, \"_type\": \"allmini_vec\", \"texture\": \"glossy\", \"sentence\": \"An earthquake – also called a quake, tremor, or temblor – is the shaking of the surface of Earth resulting from a sudden release of energy in the lithosphere that creates seismic waves.\"},\n",
    "                {\"_key\": 3, \"_type\": \"allmini_vec\", \"texture\": \"silk\", \"sentence\": \"An octopus is a soft-bodied, eight-limbed mollusc of the order Octopoda. The order consists of some 300 species and is grouped within the class Cephalopoda with squids, cuttlefish, and nautiloids.\"},\n",
    "                {\"_key\": 4, \"_type\": \"allmini_vec\", \"texture\": \"matt\", \"sentence\": \"Basketball is a team sport in which two teams, most commonly of five players each, opposing one another on a rectangular court, compete with the primary objective of shooting a basketball (approximately 9.4 inches (24 cm) in diameter) through the defender's hoop.\"},\n",
    "                {\"_key\": 5, \"_type\": \"allmini_vec\", \"texture\": \"raw\", \"sentence\": \"Physics is the natural science of matter, involving the study of matter,[a] its fundamental constituents, its motion and behavior through space and time, and the related entities of energy and force.\"},\n",
    "                                 ]\n",
    "res = ispn_allminilm.add_texts(texts)"
   ]
  },
  {
   "cell_type": "code",
   "execution_count": 47,
   "id": "86e782b3-5a74-4ca1-a5d1-c0ee935a659e",
   "metadata": {},
   "outputs": [
    {
     "data": {
      "text/plain": [
       "[Document(page_content='An octopus is a soft-bodied, eight-limbed mollusc of the order Octopoda. The order consists of some 300 species and is grouped within the class Cephalopoda with squids, cuttlefish, and nautiloids.'),\n",
       " Document(page_content=\"Volleyball is a team sport in which two teams of six players are separated by a net. Each team tries to score points by grounding a ball on the other team's court under organized rules.\")]"
      ]
     },
     "execution_count": 47,
     "metadata": {},
     "output_type": "execute_result"
    }
   ],
   "source": [
    "ispn_allminilm.similarity_search(\"I like swimming in the sea\",2)"
   ]
  },
  {
   "cell_type": "code",
   "execution_count": 48,
   "id": "b60847f9-ef34-4c79-b276-ac62170e2d6a",
   "metadata": {},
   "outputs": [
    {
     "data": {
      "text/plain": [
       "[Document(page_content=\"Volleyball is a team sport in which two teams of six players are separated by a net. Each team tries to score points by grounding a ball on the other team's court under organized rules.\"),\n",
       " Document(page_content=\"Basketball is a team sport in which two teams, most commonly of five players each, opposing one another on a rectangular court, compete with the primary objective of shooting a basketball (approximately 9.4 inches (24 cm) in diameter) through the defender's hoop.\")]"
      ]
     },
     "execution_count": 48,
     "metadata": {},
     "output_type": "execute_result"
    }
   ],
   "source": [
    "ispn_allminilm.similarity_search(\"I don't like tennis, I prefer playing in a team\",2)"
   ]
  },
  {
   "cell_type": "code",
   "execution_count": null,
   "id": "862e4af2-9f8a-4985-90cb-997477901b1e",
   "metadata": {},
   "outputs": [],
   "source": []
  }
 ],
 "metadata": {
  "kernelspec": {
   "display_name": "Python 3 (ipykernel)",
   "language": "python",
   "name": "python3"
  },
  "language_info": {
   "codemirror_mode": {
    "name": "ipython",
    "version": 3
   },
   "file_extension": ".py",
   "mimetype": "text/x-python",
   "name": "python",
   "nbconvert_exporter": "python",
   "pygments_lexer": "ipython3",
   "version": "3.9.18"
  }
 },
 "nbformat": 4,
 "nbformat_minor": 5
}
