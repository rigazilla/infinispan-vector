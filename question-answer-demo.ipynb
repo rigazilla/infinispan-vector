{
 "cells": [
  {
   "cell_type": "markdown",
   "id": "fea7097b-36ab-4cbe-a29c-fd3f13e95365",
   "metadata": {},
   "source": [
    "# Infinispan VectorStore: question answer demo\n",
    "\n",
    "This demo show how to setup a chain for a question answer application.\n",
    "InfinispanVS will be used as a retriever.\n",
    "\n",
    "*This demo needs an openAI api key: it must be stored in a `.env` file in the form\n",
    "`OPENAI_API_KEY=<your-key-here>`*"
   ]
  },
  {
   "cell_type": "code",
   "execution_count": null,
   "id": "ec48e621-ad69-4787-8f76-22a9acfafd74",
   "metadata": {},
   "outputs": [],
   "source": [
    "# Start Infinispan in a container\n",
    "!docker rm --force infinispanvs-demo\n",
    "!docker run -d --name infinispanvs-demo -v $(pwd):/user-config  -p 11222:11222 infinispan/server:15.0.0.Dev09 -c /user-config/infinispan-noauth.yaml "
   ]
  },
  {
   "cell_type": "code",
   "execution_count": null,
   "id": "c8ea41f3-6467-4bf8-acc5-263705af5912",
   "metadata": {},
   "outputs": [],
   "source": [
    "%pip install langchain\n",
    "%pip install langchain_community\n",
    "%pip install tqdm\n",
    "%pip install pypdf\n",
    "%pip install sentence_transformers\n",
    "%pip install openai\n",
    "%pip install python-dotenv"
   ]
  },
  {
   "cell_type": "code",
   "execution_count": null,
   "id": "aac6c8a2-df28-49e4-80c8-50a57a19e9ef",
   "metadata": {},
   "outputs": [],
   "source": [
    "from langchain.document_loaders import PyPDFLoader\n",
    "from langchain_community.embeddings.huggingface import HuggingFaceEmbeddings\n",
    "from tqdm import tqdm\n",
    "import pickle\n",
    "import os\n",
    "import json"
   ]
  },
  {
   "cell_type": "code",
   "execution_count": null,
   "id": "71a5ddbf-03ae-4a81-a9d6-e62709f4a74c",
   "metadata": {},
   "outputs": [],
   "source": [
    "# Load PDF documentation\n",
    "\n",
    "pdf_folder_path = '/home/rigazilla/ai/data/ai-pdf'\n",
    "loaders = [PyPDFLoader(os.path.join(pdf_folder_path, fn)) for fn in os.listdir(pdf_folder_path)]\n",
    "documents = []\n",
    "for loader in tqdm(loaders):\n",
    "    try:\n",
    "        documents.extend(loader.load())\n",
    "    except:\n",
    "        pass"
   ]
  },
  {
   "cell_type": "code",
   "execution_count": null,
   "id": "20cd5be6-78da-47fb-9da9-07f7015d72a9",
   "metadata": {},
   "outputs": [],
   "source": [
    "# Split texts in documents\n",
    "\n",
    "from langchain.text_splitter import CharacterTextSplitter\n",
    "text_splitter = CharacterTextSplitter(chunk_size=1000, chunk_overlap=0)\n",
    "texts = text_splitter.split_documents(documents)\n",
    "\n",
    "from infinispan_vector.infinispanvs import Infinispan, InfinispanVS\n"
   ]
  },
  {
   "cell_type": "code",
   "execution_count": null,
   "id": "1188fe4b-99bb-429c-b428-02bdb64c3b8d",
   "metadata": {},
   "outputs": [],
   "source": [
    "for text in texts:\n",
    "    text.metadata.update({\"text\": text.page_content})"
   ]
  },
  {
   "cell_type": "code",
   "execution_count": null,
   "id": "84c81991-482c-41d4-bbf0-2637bd135843",
   "metadata": {},
   "outputs": [],
   "source": [
    "# Replacing OpenAI embeddings with HuggingFace model due to vector dimension limit\n",
    "#embeddings = OpenAIEmbeddings()\n",
    "\n",
    "# Define the path to the pre-trained model you want to use\n",
    "modelPath = \"sentence-transformers/all-MiniLM-l6-v2\"\n",
    "\n",
    "# Create a dictionary with model configuration options, specifying to use the CPU for computations\n",
    "model_kwargs = {'device':'cpu'}\n",
    "\n",
    "# Create a dictionary with encoding options, specifically setting 'normalize_embeddings' to False\n",
    "encode_kwargs = {'normalize_embeddings': False}\n",
    "\n",
    "# Initialize an instance of HuggingFaceEmbeddings with the specified parameters\n",
    "embeddings = HuggingFaceEmbeddings(\n",
    "    model_name=modelPath,     # Provide the pre-trained model's path\n",
    "    model_kwargs=model_kwargs, # Pass the model configuration options\n",
    "    encode_kwargs=encode_kwargs # Pass the encoding options\n",
    ")"
   ]
  },
  {
   "cell_type": "code",
   "execution_count": null,
   "id": "a0ac30ca-060e-459f-91b5-052846491715",
   "metadata": {},
   "outputs": [],
   "source": [
    "vector_store = InfinispanVS.from_documents(documents=texts, embedding=embeddings)\n",
    "\n",
    "from langchain.indexes import VectorstoreIndexCreator\n",
    "retriever = vector_store.as_retriever(search_type=\"similarity\", search_kwargs={\"k\":2})\n",
    "from langchain.llms import OpenAI\n",
    "from langchain.chains import RetrievalQA\n",
    "from dotenv import load_dotenv\n",
    "load_dotenv()"
   ]
  },
  {
   "cell_type": "code",
   "execution_count": null,
   "id": "ec6106b6-c727-4be9-87da-d5becef3da57",
   "metadata": {},
   "outputs": [],
   "source": [
    "# Create a q&a chain\n",
    "qa = RetrievalQA.from_chain_type(llm=OpenAI(), chain_type=\"stuff\", retriever=retriever, return_source_documents=True)"
   ]
  },
  {
   "cell_type": "code",
   "execution_count": null,
   "id": "f3d10771-a55a-45c8-876e-98bc174de091",
   "metadata": {},
   "outputs": [],
   "source": [
    "# Some demo questions\n",
    "result = qa({\"query\": \"What is naive bayes?\"})\n",
    "print(result[\"result\"])"
   ]
  },
  {
   "cell_type": "code",
   "execution_count": null,
   "id": "0ec5544c-69b1-48b1-9ee1-8af8ebbaa6c3",
   "metadata": {},
   "outputs": [],
   "source": [
    "result = qa({\"query\": \"Can I use AI in manufactoring?\"})\n",
    "print(result[\"result\"])"
   ]
  },
  {
   "cell_type": "code",
   "execution_count": null,
   "id": "b38fd80c-9457-4d06-bd2e-eb9ef0181931",
   "metadata": {},
   "outputs": [],
   "source": [
    "# This is out of scope, no answer should be produced\n",
    "result = qa({\"query\": \"What is a pizza?\"})\n",
    "print(result[\"result\"])"
   ]
  },
  {
   "cell_type": "code",
   "execution_count": null,
   "id": "1e79b8e8-2364-4212-aeec-97a5f592eb94",
   "metadata": {},
   "outputs": [],
   "source": [
    "# Try with your questions\n",
    "q = \"\"\n",
    "while q != \"bye\":\n",
    "    if q != \"\":\n",
    "        result = qa({\"query\": q})\n",
    "        print(result[\"result\"])\n",
    "    q = str(input(\"Question (or bye to quit)> \"))\n",
    "print(\"bye\")"
   ]
  },
  {
   "cell_type": "code",
   "execution_count": null,
   "id": "4b2ba8d4-b49b-479c-b54f-035443c3936f",
   "metadata": {},
   "outputs": [],
   "source": [
    "!docker rm --force infinispanvs-demo"
   ]
  }
 ],
 "metadata": {
  "kernelspec": {
   "display_name": "Python 3 (ipykernel)",
   "language": "python",
   "name": "python3"
  },
  "language_info": {
   "codemirror_mode": {
    "name": "ipython",
    "version": 3
   },
   "file_extension": ".py",
   "mimetype": "text/x-python",
   "name": "python",
   "nbconvert_exporter": "python",
   "pygments_lexer": "ipython3",
   "version": "3.9.18"
  }
 },
 "nbformat": 4,
 "nbformat_minor": 5
}
