{
 "cells": [
  {
   "cell_type": "code",
   "execution_count": null,
   "id": "d2c9f46f-3c78-4865-810b-52408dff5fb7",
   "metadata": {},
   "outputs": [],
   "source": [
    "from langchain_core.embeddings import Embeddings\n",
    "from infinispan_vector import Infinispan\n",
    "\n",
    "# Demo with a real embedding\n",
    "from langchain.embeddings import HuggingFaceEmbeddings\n",
    "\n",
    "model_name = \"sentence-transformers/all-MiniLM-L12-v2\"\n",
    "\n",
    "hf = HuggingFaceEmbeddings(model_name=model_name)\n"
   ]
  },
  {
   "cell_type": "code",
   "execution_count": null,
   "id": "49668bf1-778b-466d-86fb-41747ed52b74",
   "metadata": {},
   "outputs": [],
   "source": [
    "# Creating a langchain_core.VectorStore\n",
    "# the default store name `allminilm` will be used\n",
    "\n",
    "ispn_allminilm = Infinispan.from_texts(texts={}, embedding=hf,\n",
    "                                 configuration={\"lambda.content\": lambda item: item[\"_key\"], \"cache_name\": \"allminilm\", \"entity_name\" : \"allmini_vec\"})"
   ]
  },
  {
   "cell_type": "code",
   "execution_count": null,
   "id": "24891f4a-671b-4694-8892-b0c4da954d6e",
   "metadata": {},
   "outputs": [],
   "source": [
    "# Creating an Infinispan cache to store vectors\n",
    "\n",
    "cache_def = '''\n",
    "{\n",
    "  \"distributed-cache\": {\n",
    "    \"owners\": \"2\",\n",
    "    \"mode\": \"SYNC\",\n",
    "    \"statistics\": true,\n",
    "    \"encoding\": {\n",
    "      \"media-type\": \"application/x-protostream\"\n",
    "    },\n",
    "    \"indexing\": {\n",
    "      \"enabled\": true,\n",
    "      \"storage\": \"filesystem\",\n",
    "      \"startup-mode\": \"AUTO\",\n",
    "      \"indexing-mode\": \"AUTO\",\n",
    "      \"indexed-entities\": [\n",
    "        \"allmini_vec\"\n",
    "      ]\n",
    "    }\n",
    "  }\n",
    "}\n",
    "'''\n",
    "ispn_allminilm.req_cache_post(\"allminilm\",cache_def)"
   ]
  },
  {
   "cell_type": "code",
   "execution_count": null,
   "id": "100a96e9-1d6f-491d-ad4a-efb115bb3c5b",
   "metadata": {},
   "outputs": [],
   "source": [
    "# Creating an Infinispan cache to store news\n",
    "\n",
    "cache_def = '''\n",
    "{\n",
    "  \"distributed-cache\": {\n",
    "    \"owners\": \"2\",\n",
    "    \"mode\": \"SYNC\",\n",
    "    \"statistics\": true,\n",
    "    \"encoding\": {\n",
    "      \"media-type\": \"application/x-protostream\"\n",
    "    }\n",
    "  }\n",
    "}\n",
    "'''\n",
    "ispn_allminilm.req_cache_post(\"news\",cache_def)"
   ]
  },
  {
   "cell_type": "code",
   "execution_count": null,
   "id": "1fa0add0-8317-4667-9b8c-5d91c47f752a",
   "metadata": {},
   "outputs": [],
   "source": [
    "import json\n",
    "schema_vector = '''\n",
    "/**\n",
    " * @Indexed\n",
    " */\n",
    "message allmini_vec {\n",
    "/**\n",
    " * @Vector(dimension=384)\n",
    " */\n",
    "repeated float floatVector = 1;\n",
    "optional int32 _key = 2;\n",
    "optional string title = 3;\n",
    "}\n",
    "'''\n",
    "output = ispn_allminilm.req_schema_post(\"allmini_vec.proto\",schema_vector)\n",
    "print(output.text)\n",
    "assert output.status_code == 200\n",
    "assert json.loads(output.text)[\"error\"] == None"
   ]
  },
  {
   "cell_type": "code",
   "execution_count": null,
   "id": "2657f3cb-b03a-451f-b59f-9a270e48e79d",
   "metadata": {},
   "outputs": [],
   "source": [
    "schema_news = '''\n",
    "message news {\n",
    "optional string title = 1;\n",
    "optional string description = 2;\n",
    "}\n",
    "'''\n",
    "output = ispn_allminilm.req_schema_post(\"news.proto\",schema_news)\n",
    "print(output.text)\n",
    "assert output.status_code == 200\n",
    "assert json.loads(output.text)[\"error\"] == None"
   ]
  },
  {
   "cell_type": "code",
   "execution_count": null,
   "id": "0f6a42d3-c5ec-44ec-9b57-ebe5ca8c301a",
   "metadata": {},
   "outputs": [],
   "source": [
    "# Adding some data from rnd_sentences.txt\n",
    "import csv, time\n",
    "\n",
    "with open('bbc_news.csv', newline='') as csvfile:\n",
    "    spamreader = csv.reader(csvfile, delimiter=',', quotechar='\"')\n",
    "    i=0\n",
    "    texts = []\n",
    "    metas = []\n",
    "    embeds = []\n",
    "    for row in spamreader:\n",
    "        # Storing content\n",
    "        doc={}\n",
    "        doc[\"_type\"]=\"news\"\n",
    "        doc[\"title\"]=row[0]\n",
    "        text=row[0]+\".\"+row[4]\n",
    "        doc[\"description\"]=text\n",
    "        res = ispn_allminilm.req_put(str(i), json.dumps(doc), cache_name=\"news\")\n",
    "        texts.append(text)\n",
    "        # Storing meta\n",
    "        meta={}\n",
    "        meta[\"_key\"]=str(i)\n",
    "        meta[\"title\"]=row[0]\n",
    "        metas.append(meta)\n",
    "        i=i+1\n",
    "        if (i > 1000):\n",
    "            break"
   ]
  },
  {
   "cell_type": "code",
   "execution_count": null,
   "id": "75e135a6-1b38-48eb-96ca-379b6f4a653f",
   "metadata": {},
   "outputs": [],
   "source": [
    "    # add texts and fill vector db\n",
    "    keys = ispn_allminilm.add_texts(texts, metas)"
   ]
  },
  {
   "cell_type": "code",
   "execution_count": null,
   "id": "86e782b3-5a74-4ca1-a5d1-c0ee935a659e",
   "metadata": {},
   "outputs": [],
   "source": [
    "query_res = ispn_allminilm.similarity_search(\"North Sea is getting hot\",2)\n",
    "for res in query_res:\n",
    "    print(ispn_allminilm.req_get(res.page_content, \"news\").text)"
   ]
  },
  {
   "cell_type": "code",
   "execution_count": null,
   "id": "b60847f9-ef34-4c79-b276-ac62170e2d6a",
   "metadata": {},
   "outputs": [],
   "source": [
    "query_res = ispn_allminilm.similarity_search(\"Milan fashion week begins\",2)\n",
    "for res in query_res:\n",
    "    print(ispn_allminilm.req_get(res.page_content, \"news\").text)"
   ]
  },
  {
   "cell_type": "code",
   "execution_count": null,
   "id": "5572ce2c-ac9b-4e56-a737-4d3afbd1e5af",
   "metadata": {},
   "outputs": [],
   "source": [
    "query_res = ispn_allminilm.similarity_search(\"I'm getting hungry\",2)\n",
    "for res in query_res:\n",
    "    print(ispn_allminilm.req_get(res.page_content, \"news\").text)"
   ]
  },
  {
   "cell_type": "code",
   "execution_count": null,
   "id": "6cbb5607-da55-4879-92cf-79ac690cc0c5",
   "metadata": {},
   "outputs": [],
   "source": [
    "query_res = ispn_allminilm.similarity_search(\"Stock market is rising today\",2)\n",
    "for res in query_res:\n",
    "    print(ispn_allminilm.req_get(res.page_content, \"news\").text)"
   ]
  },
  {
   "cell_type": "code",
   "execution_count": null,
   "id": "3bb94ca1-7b1e-41ed-9d8f-b845775d11c1",
   "metadata": {},
   "outputs": [],
   "source": [
    "query_res = ispn_allminilm.similarity_search(\"Why cats are so viral?\",2)\n",
    "for res in query_res:\n",
    "    print(ispn_allminilm.req_get(res.page_content, \"news\").text)"
   ]
  },
  {
   "cell_type": "code",
   "execution_count": null,
   "id": "a4fca208-b580-483d-9be0-786b6b63a31d",
   "metadata": {},
   "outputs": [],
   "source": [
    "query_res = ispn_allminilm.similarity_search(\"How to stay young\",2)\n",
    "for res in query_res:\n",
    "    print(ispn_allminilm.req_get(res.page_content, \"news\").text)"
   ]
  },
  {
   "cell_type": "code",
   "execution_count": null,
   "id": "862e4af2-9f8a-4985-90cb-997477901b1e",
   "metadata": {},
   "outputs": [],
   "source": [
    "# Clean up\n",
    "ispn_allminilm.req_cache_delete(\"allminilm\")\n",
    "ispn_allminilm.req_schema_delete(\"allmini_vec.proto\")"
   ]
  },
  {
   "cell_type": "code",
   "execution_count": null,
   "id": "323cbffb-380b-429c-8c0e-62c2cb1d0a59",
   "metadata": {},
   "outputs": [],
   "source": [
    "ispn_allminilm.req_cache_delete(\"news\")\n",
    "ispn_allminilm.req_schema_delete(\"news.proto\")"
   ]
  },
  {
   "cell_type": "code",
   "execution_count": null,
   "id": "2a7c12af-6fe4-447a-86b8-c09ffb4ecec9",
   "metadata": {},
   "outputs": [],
   "source": []
  }
 ],
 "metadata": {
  "kernelspec": {
   "display_name": "Python 3 (ipykernel)",
   "language": "python",
   "name": "python3"
  },
  "language_info": {
   "codemirror_mode": {
    "name": "ipython",
    "version": 3
   },
   "file_extension": ".py",
   "mimetype": "text/x-python",
   "name": "python",
   "nbconvert_exporter": "python",
   "pygments_lexer": "ipython3",
   "version": "3.9.18"
  }
 },
 "nbformat": 4,
 "nbformat_minor": 5
}
